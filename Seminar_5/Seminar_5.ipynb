{
 "cells": [
  {
   "cell_type": "markdown",
   "metadata": {},
   "source": [
    "## Numpy"
   ]
  },
  {
   "cell_type": "code",
   "execution_count": 2,
   "metadata": {
    "collapsed": true
   },
   "outputs": [],
   "source": [
    "import numpy as np"
   ]
  },
  {
   "cell_type": "markdown",
   "metadata": {},
   "source": [
    "Основные типы данных в numpy — это [numpy.array](http://docs.scipy.org/doc/numpy-1.10.0/reference/generated/numpy.array.html) и [numpy.matrix](http://docs.scipy.org/doc/numpy-1.10.1/reference/generated/numpy.matrix.html) "
   ]
  },
  {
   "cell_type": "markdown",
   "metadata": {},
   "source": [
    "### numpy.array "
   ]
  },
  {
   "cell_type": "code",
   "execution_count": 4,
   "metadata": {},
   "outputs": [
    {
     "name": "stdout",
     "output_type": "stream",
     "text": [
      "<class 'numpy.ndarray'>\n"
     ]
    }
   ],
   "source": [
    "a = [1, 2, 3]\n",
    "numpy_a = np.array(a)\n",
    "print(type(numpy_a))"
   ]
  },
  {
   "cell_type": "code",
   "execution_count": 10,
   "metadata": {},
   "outputs": [
    {
     "ename": "ValueError",
     "evalue": "setting an array element with a sequence",
     "output_type": "error",
     "traceback": [
      "\u001b[0;31m---------------------------------------------------------------------------\u001b[0m",
      "\u001b[0;31mValueError\u001b[0m                                Traceback (most recent call last)",
      "\u001b[0;32m<ipython-input-10-adad0304e795>\u001b[0m in \u001b[0;36m<module>\u001b[0;34m()\u001b[0m\n\u001b[1;32m      2\u001b[0m \u001b[0;31m#List можно заполнять элементами различного типа, а вот numpy.array нет\u001b[0m\u001b[0;34m\u001b[0m\u001b[0;34m\u001b[0m\u001b[0m\n\u001b[1;32m      3\u001b[0m \u001b[0ma\u001b[0m \u001b[0;34m=\u001b[0m \u001b[0;34m[\u001b[0m\u001b[0;36m1\u001b[0m\u001b[0;34m,\u001b[0m \u001b[0;34m'a'\u001b[0m\u001b[0;34m,\u001b[0m \u001b[0;34m[\u001b[0m\u001b[0;36m1\u001b[0m\u001b[0;34m,\u001b[0m \u001b[0;36m2\u001b[0m\u001b[0;34m]\u001b[0m\u001b[0;34m]\u001b[0m\u001b[0;34m\u001b[0m\u001b[0m\n\u001b[0;32m----> 4\u001b[0;31m \u001b[0mnumpy_a\u001b[0m \u001b[0;34m=\u001b[0m \u001b[0mnp\u001b[0m\u001b[0;34m.\u001b[0m\u001b[0marray\u001b[0m\u001b[0;34m(\u001b[0m\u001b[0ma\u001b[0m\u001b[0;34m)\u001b[0m\u001b[0;34m\u001b[0m\u001b[0m\n\u001b[0m",
      "\u001b[0;31mValueError\u001b[0m: setting an array element with a sequence"
     ]
    }
   ],
   "source": [
    "#Важно! \n",
    "#List можно заполнять элементами различного типа, а вот numpy.array нет\n",
    "a = [1, 'a', [1, 2]]\n",
    "numpy_a = np.array(a)"
   ]
  },
  {
   "cell_type": "code",
   "execution_count": 13,
   "metadata": {},
   "outputs": [
    {
     "name": "stdout",
     "output_type": "stream",
     "text": [
      "[  1.90801354e-316   6.91063618e-310   6.91063915e-310   5.39089651e-317\n",
      "   6.91059236e-310]\n",
      "[ 0.  0.  0.  0.  0.]\n",
      "[ 1.  1.  1.  1.  1.]\n"
     ]
    }
   ],
   "source": [
    "#Можно создавать пустой массив\n",
    "empty_array = np.empty(5)\n",
    "print(empty_array)\n",
    "\n",
    "# ... а можно заполненный нулями\n",
    "zeros_array = np.zeros(5)\n",
    "print(zeros_array)\n",
    "\n",
    "# ... а можно - еденичками\n",
    "ones_array = np.ones(5)\n",
    "print(ones_array)"
   ]
  },
  {
   "cell_type": "code",
   "execution_count": 15,
   "metadata": {},
   "outputs": [
    {
     "name": "stdout",
     "output_type": "stream",
     "text": [
      "[[ 0.  0.  0.  0.  0.]\n",
      " [ 0.  0.  0.  0.  0.]\n",
      " [ 0.  0.  0.  0.  0.]\n",
      " [ 0.  0.  0.  0.  0.]\n",
      " [ 0.  0.  0.  0.  0.]]\n"
     ]
    }
   ],
   "source": [
    "#Можно создавать двумерные массивы\n",
    "zeros_array2 = np.zeros((5, 5))\n",
    "сprint(zeros_array2)"
   ]
  },
  {
   "cell_type": "code",
   "execution_count": 18,
   "metadata": {},
   "outputs": [
    {
     "name": "stdout",
     "output_type": "stream",
     "text": [
      "[[[ 0.  0.]\n",
      "  [ 0.  0.]]\n",
      "\n",
      " [[ 0.  0.]\n",
      "  [ 0.  0.]]]\n"
     ]
    }
   ],
   "source": [
    "# ... а можно трехмерные и, вообще, скольки хочешь мерные \n",
    "zeros_array3 = np.zeros((2, 2, 2))\n",
    "print(zeros_array3)"
   ]
  },
  {
   "cell_type": "markdown",
   "metadata": {},
   "source": [
    "Обращаться к элементу numpy.array нужно также, как и к элементу list - через оператор квадратные скобочки. Заметим также, что numpy.array изменяемый тип данных."
   ]
  },
  {
   "cell_type": "markdown",
   "metadata": {},
   "source": [
    "### Задача 1\n",
    "Создайте матрицу у которой на диоганали стоят единицы, а все остальные элементы нули (единичная матрица) размера 10*10"
   ]
  },
  {
   "cell_type": "code",
   "execution_count": 13,
   "metadata": {},
   "outputs": [
    {
     "data": {
      "text/plain": [
       "array([[ 1.,  0.,  0.,  0.,  0.,  0.,  0.,  0.,  0.,  0.],\n",
       "       [ 0.,  1.,  0.,  0.,  0.,  0.,  0.,  0.,  0.,  0.],\n",
       "       [ 0.,  0.,  1.,  0.,  0.,  0.,  0.,  0.,  0.,  0.],\n",
       "       [ 0.,  0.,  0.,  1.,  0.,  0.,  0.,  0.,  0.,  0.],\n",
       "       [ 0.,  0.,  0.,  0.,  1.,  0.,  0.,  0.,  0.,  0.],\n",
       "       [ 0.,  0.,  0.,  0.,  0.,  1.,  0.,  0.,  0.,  0.],\n",
       "       [ 0.,  0.,  0.,  0.,  0.,  0.,  1.,  0.,  0.,  0.],\n",
       "       [ 0.,  0.,  0.,  0.,  0.,  0.,  0.,  1.,  0.,  0.],\n",
       "       [ 0.,  0.,  0.,  0.,  0.,  0.,  0.,  0.,  1.,  0.],\n",
       "       [ 0.,  0.,  0.,  0.,  0.,  0.,  0.,  0.,  0.,  1.]])"
      ]
     },
     "execution_count": 13,
     "metadata": {},
     "output_type": "execute_result"
    }
   ],
   "source": [
    "a = np.zeros((10, 10))\n",
    "for index in range(len(a)):\n",
    "    a[index][index] = 1\n",
    "a"
   ]
  },
  {
   "cell_type": "code",
   "execution_count": 28,
   "metadata": {},
   "outputs": [
    {
     "name": "stdout",
     "output_type": "stream",
     "text": [
      "[[ 1.  0.  0.  0.  0.  0.  0.  0.  0.  0.]\n",
      " [ 0.  1.  0.  0.  0.  0.  0.  0.  0.  0.]\n",
      " [ 0.  0.  1.  0.  0.  0.  0.  0.  0.  0.]\n",
      " [ 0.  0.  0.  1.  0.  0.  0.  0.  0.  0.]\n",
      " [ 0.  0.  0.  0.  1.  0.  0.  0.  0.  0.]\n",
      " [ 0.  0.  0.  0.  0.  1.  0.  0.  0.  0.]\n",
      " [ 0.  0.  0.  0.  0.  0.  1.  0.  0.  0.]\n",
      " [ 0.  0.  0.  0.  0.  0.  0.  1.  0.  0.]\n",
      " [ 0.  0.  0.  0.  0.  0.  0.  0.  1.  0.]\n",
      " [ 0.  0.  0.  0.  0.  0.  0.  0.  0.  1.]]\n"
     ]
    }
   ],
   "source": [
    "#Задачу 1 можно решить с помощью одной команды из numpy\n",
    "numpy_eye = np.eye(10)\n",
    "print(numpy_eye)"
   ]
  },
  {
   "cell_type": "code",
   "execution_count": 22,
   "metadata": {},
   "outputs": [
    {
     "name": "stdout",
     "output_type": "stream",
     "text": [
      "[10 11 12 13 14 15 16 17 18 19 20 21 22 23 24 25 26 27 28 29 30 31 32 33 34]\n"
     ]
    }
   ],
   "source": [
    "#Эквивалент range\n",
    "numpy_range = np.arange(10,35)\n",
    "print(numpy_range)"
   ]
  },
  {
   "cell_type": "code",
   "execution_count": 27,
   "metadata": {},
   "outputs": [
    {
     "name": "stdout",
     "output_type": "stream",
     "text": [
      "(25,)\n",
      "\n",
      "[[10 11 12 13 14]\n",
      " [15 16 17 18 19]\n",
      " [20 21 22 23 24]\n",
      " [25 26 27 28 29]\n",
      " [30 31 32 33 34]]\n",
      "(5, 5)\n"
     ]
    }
   ],
   "source": [
    "#Размерность\n",
    "print(numpy_range.shape)\n",
    "\n",
    "print()\n",
    "numpy_reshape = numpy_range.reshape((5, 5))\n",
    "print(numpy_reshape)\n",
    "print(numpy_reshape.shape)"
   ]
  },
  {
   "cell_type": "code",
   "execution_count": 38,
   "metadata": {},
   "outputs": [
    {
     "name": "stdout",
     "output_type": "stream",
     "text": [
      "Non zero indices (array([0, 1, 4]),)\n",
      "[1 2 4]\n"
     ]
    }
   ],
   "source": [
    "#На втором семинаре мы решали задачу 3 про удаление нулей из списка\n",
    "#С помощью модуля numpy можно найти индексы не нулевых элементов \n",
    "numpy_a = np.array([1,2,0,0,4,0])\n",
    "nz_indices = np.nonzero(numpy_a)\n",
    "print('Non zero indices', nz_indices)\n",
    "#Теперь мы можем вернуть не нулевые элементы следующим образом\n",
    "print(numpy_a[nz_indices])\n",
    "#Таким образом ту задачу можно было бы решить в одну строчку\n",
    "numpy_nonzero_a = numpy_a[np.nonzero(numpy_a)]"
   ]
  },
  {
   "cell_type": "code",
   "execution_count": 42,
   "metadata": {},
   "outputs": [
    {
     "name": "stdout",
     "output_type": "stream",
     "text": [
      "Create ramdom array:\n",
      " [[ 0.87513703  0.52260881  0.7196248   0.96103319  0.4006673   0.11093142\n",
      "   0.70531983  0.99321753  0.01347965  0.55493718]\n",
      " [ 0.98448192  0.38580245  0.49511084  0.65237444  0.05558738  0.50684954\n",
      "   0.85049787  0.51269571  0.45976561  0.2627926 ]\n",
      " [ 0.85246388  0.25319759  0.05763801  0.67994401  0.36639767  0.1196675\n",
      "   0.20189263  0.32814897  0.31149614  0.19448329]\n",
      " [ 0.61570368  0.62488868  0.24558466  0.94808382  0.29333595  0.95671898\n",
      "   0.80895455  0.23025789  0.16740505  0.51970777]\n",
      " [ 0.35237373  0.43702743  0.46870189  0.80363372  0.88963693  0.48069648\n",
      "   0.18514255  0.75868915  0.6030863   0.66248844]\n",
      " [ 0.48636378  0.23297415  0.98094837  0.50388855  0.04248549  0.19249448\n",
      "   0.98345356  0.97960102  0.47224612  0.73614328]\n",
      " [ 0.25564005  0.06384703  0.50324637  0.57031748  0.55197003  0.27050325\n",
      "   0.47267018  0.31245399  0.18112827  0.84136876]\n",
      " [ 0.86635415  0.43604209  0.96671748  0.45343373  0.3006502   0.57833524\n",
      "   0.3331649   0.00709151  0.96248483  0.57459872]\n",
      " [ 0.92719316  0.11953302  0.07075491  0.27860253  0.82238164  0.11347251\n",
      "   0.16079778  0.9888246   0.21747911  0.12759727]\n",
      " [ 0.51945459  0.31578888  0.28383896  0.61544407  0.13519319  0.54010542\n",
      "   0.22993273  0.12067744  0.26223849  0.537755  ]]\n",
      "min: 0.007092, max: 0.993218\n",
      "mean: 0.479400\n"
     ]
    }
   ],
   "source": [
    "#Ещё несколько возможностей\n",
    "a = np.random.random((10,10))\n",
    "print('Create ramdom array:\\n', a)\n",
    "a_min, a_max = a.min(), a.max()\n",
    "print('min: %f, max: %f'%(a_min, a_max))\n",
    "a_mean = a.mean()\n",
    "print('mean: %f'%a_mean)"
   ]
  },
  {
   "cell_type": "code",
   "execution_count": 9,
   "metadata": {},
   "outputs": [
    {
     "name": "stdout",
     "output_type": "stream",
     "text": [
      "nan\n",
      "False\n",
      "False\n",
      "nan\n",
      "nan\n"
     ]
    }
   ],
   "source": [
    "#Бесконечность и неопределённость\n",
    "print(0 * np.nan)\n",
    "print(np.nan == np.nan)\n",
    "print(np.inf > np.nan)\n",
    "print(np.nan - np.nan)\n",
    "print(np.inf - np.inf)"
   ]
  },
  {
   "cell_type": "code",
   "execution_count": 48,
   "metadata": {},
   "outputs": [
    {
     "name": "stdout",
     "output_type": "stream",
     "text": [
      "False\n",
      "0.3 0.30000000000000004\n"
     ]
    }
   ],
   "source": [
    "#Немного о странностях вещественных чисел\n",
    "print(0.3 == 3 * 0.1)\n",
    "print(0.3, 3*0.1)"
   ]
  },
  {
   "cell_type": "markdown",
   "metadata": {},
   "source": [
    "### Задача 2\n",
    "Создайте вот такую матрицу \n",
    "\n",
    "[[ 1.  0.  0.  0.  0.]\n",
    "\n",
    " [ 1.  1.  0.  0.  0.]\n",
    " \n",
    " [ 0.  2.  1.  0.  0.]\n",
    " \n",
    " [ 0.  0.  3.  1.  0.]\n",
    " \n",
    " [ 0.  0.  0.  4.  1.]]"
   ]
  },
  {
   "cell_type": "code",
   "execution_count": 41,
   "metadata": {},
   "outputs": [
    {
     "data": {
      "text/plain": [
       "array([[ 1.,  0.,  0.,  0.,  0.],\n",
       "       [ 1.,  1.,  0.,  0.,  0.],\n",
       "       [ 0.,  2.,  1.,  0.,  0.],\n",
       "       [ 0.,  0.,  3.,  1.,  0.],\n",
       "       [ 0.,  0.,  0.,  4.,  1.]])"
      ]
     },
     "execution_count": 41,
     "metadata": {},
     "output_type": "execute_result"
    }
   ],
   "source": [
    "numpy_eye = np.eye(5)\n",
    "for index in range(1, len(numpy_eye)):\n",
    "    numpy_eye[index][index-1] = index\n",
    "numpy_eye"
   ]
  },
  {
   "cell_type": "code",
   "execution_count": 42,
   "metadata": {},
   "outputs": [
    {
     "data": {
      "text/plain": [
       "array([[ 1.,  0.,  0.,  0.,  0.],\n",
       "       [ 0.,  1.,  0.,  0.,  0.],\n",
       "       [ 0.,  0.,  1.,  0.,  0.],\n",
       "       [ 0.,  0.,  0.,  1.,  0.],\n",
       "       [ 0.,  0.,  0.,  0.,  1.]])"
      ]
     },
     "execution_count": 42,
     "metadata": {},
     "output_type": "execute_result"
    }
   ],
   "source": [
    "np.eye(5)"
   ]
  },
  {
   "cell_type": "code",
   "execution_count": 47,
   "metadata": {},
   "outputs": [
    {
     "data": {
      "text/plain": [
       "array([[0, 0, 0, 0, 0],\n",
       "       [1, 0, 0, 0, 0],\n",
       "       [0, 2, 0, 0, 0],\n",
       "       [0, 0, 3, 0, 0],\n",
       "       [0, 0, 0, 4, 0]])"
      ]
     },
     "execution_count": 47,
     "metadata": {},
     "output_type": "execute_result"
    }
   ],
   "source": [
    "np.diag([1, 2, 3, 4], k=-1)"
   ]
  },
  {
   "cell_type": "code",
   "execution_count": 48,
   "metadata": {},
   "outputs": [
    {
     "data": {
      "text/plain": [
       "array([[ 1.,  0.,  0.,  0.,  0.],\n",
       "       [ 1.,  1.,  0.,  0.,  0.],\n",
       "       [ 0.,  2.,  1.,  0.,  0.],\n",
       "       [ 0.,  0.,  3.,  1.,  0.],\n",
       "       [ 0.,  0.,  0.,  4.,  1.]])"
      ]
     },
     "execution_count": 48,
     "metadata": {},
     "output_type": "execute_result"
    }
   ],
   "source": [
    "np.eye(5)+np.diag([1, 2, 3, 4], k=-1)"
   ]
  },
  {
   "cell_type": "code",
   "execution_count": 51,
   "metadata": {},
   "outputs": [
    {
     "name": "stdout",
     "output_type": "stream",
     "text": [
      "[[ 1.  0.  0.  0.  0.]\n",
      " [ 1.  1.  0.  0.  0.]\n",
      " [ 0.  2.  1.  0.  0.]\n",
      " [ 0.  0.  3.  1.  0.]\n",
      " [ 0.  0.  0.  4.  1.]]\n"
     ]
    }
   ],
   "source": [
    "#А теперь как решить это в одну строчку\n",
    "a = np.eye(5)+np.diag(1+np.arange(4),k=-1)\n",
    "print(a)"
   ]
  },
  {
   "cell_type": "markdown",
   "metadata": {},
   "source": [
    "### Задача 3 \n",
    "Напишите функцию, которая на вход принимает numpy.array и возвращает нормализованый массив\n",
    "\n",
    "Сгенерируйте случайную квадратную матрицу размера 5 и проверьте свою реализацию "
   ]
  },
  {
   "cell_type": "code",
   "execution_count": 53,
   "metadata": {},
   "outputs": [
    {
     "data": {
      "text/plain": [
       "array([[ 0.28367676,  0.30034424,  0.74883951,  0.7093101 ,  0.56891821],\n",
       "       [ 0.70540835,  0.73684095,  0.02647481,  0.05700687,  0.12866134],\n",
       "       [ 0.66566849,  0.92423232,  0.        ,  0.60623921,  0.94885938],\n",
       "       [ 0.22812336,  0.66513878,  0.07054385,  0.43522094,  0.3749321 ],\n",
       "       [ 0.69731223,  1.        ,  0.20374526,  0.24998012,  0.88860289]])"
      ]
     },
     "execution_count": 53,
     "metadata": {},
     "output_type": "execute_result"
    }
   ],
   "source": [
    "def norm(input_array):\n",
    "    a_min = input_array.min()\n",
    "    a_max = input_array.max()\n",
    "    return (input_array-a_min)/(a_max-a_min)\n",
    "\n",
    "norm(np.random.random((5, 5)))"
   ]
  },
  {
   "cell_type": "markdown",
   "metadata": {},
   "source": [
    "### Задача 4 \n",
    "\n",
    "Напишите функцию, которая принимает на вход два двумерных numpy.array и возвращает результат их перемножения. [Умножение матриц](https://ru.wikipedia.org/wiki/%D0%A3%D0%BC%D0%BD%D0%BE%D0%B6%D0%B5%D0%BD%D0%B8%D0%B5_%D0%BC%D0%B0%D1%82%D1%80%D0%B8%D1%86) "
   ]
  },
  {
   "cell_type": "code",
   "execution_count": null,
   "metadata": {
    "collapsed": true
   },
   "outputs": [],
   "source": []
  },
  {
   "cell_type": "code",
   "execution_count": null,
   "metadata": {
    "collapsed": true
   },
   "outputs": [],
   "source": []
  },
  {
   "cell_type": "code",
   "execution_count": 53,
   "metadata": {},
   "outputs": [
    {
     "name": "stdout",
     "output_type": "stream",
     "text": [
      "[[ 3.  3.]\n",
      " [ 3.  3.]\n",
      " [ 3.  3.]\n",
      " [ 3.  3.]\n",
      " [ 3.  3.]]\n"
     ]
    }
   ],
   "source": [
    "#Задачу 4 можно легко решить с помощью np.dot()\n",
    "print(np.dot(np.ones((5,3)), np.ones((3,2))))"
   ]
  },
  {
   "cell_type": "markdown",
   "metadata": {},
   "source": [
    "### Задача 5\n",
    "Напишите функцию, реализующую транспонирование матрицы"
   ]
  },
  {
   "cell_type": "code",
   "execution_count": null,
   "metadata": {
    "collapsed": true
   },
   "outputs": [],
   "source": []
  },
  {
   "cell_type": "code",
   "execution_count": 55,
   "metadata": {},
   "outputs": [
    {
     "name": "stdout",
     "output_type": "stream",
     "text": [
      "[[ 1.  0.  0.  0.  0.]\n",
      " [ 1.  1.  0.  0.  0.]\n",
      " [ 0.  2.  1.  0.  0.]\n",
      " [ 0.  0.  3.  1.  0.]\n",
      " [ 0.  0.  0.  4.  1.]]\n",
      "Transpose:\n",
      "[[ 1.  1.  0.  0.  0.]\n",
      " [ 0.  1.  2.  0.  0.]\n",
      " [ 0.  0.  1.  3.  0.]\n",
      " [ 0.  0.  0.  1.  4.]\n",
      " [ 0.  0.  0.  0.  1.]]\n"
     ]
    }
   ],
   "source": [
    "#Задачу 5 можно легко решить с помощью a.T\n",
    "a = np.eye(5)+np.diag(1+np.arange(4),k=-1)\n",
    "print(a)\n",
    "print('Transpose:')\n",
    "print(a.T)"
   ]
  },
  {
   "cell_type": "markdown",
   "metadata": {},
   "source": [
    "На последок немного о том как добавлять элементы в numpy.array\n",
    "\n",
    "[numpy.append](https://docs.scipy.org/doc/numpy-1.13.0/reference/generated/numpy.append.html)\n",
    "\n",
    "[numpy.concatenate](https://docs.scipy.org/doc/numpy-1.13.0/reference/generated/numpy.concatenate.html)\n",
    "\n",
    "[numpy.hstack](https://docs.scipy.org/doc/numpy-1.13.0/reference/generated/numpy.hstack.html)\n",
    "\n",
    "[numpy.vstack](https://docs.scipy.org/doc/numpy-1.13.0/reference/generated/numpy.vstack.html)"
   ]
  }
 ],
 "metadata": {
  "kernelspec": {
   "display_name": "Python 3",
   "language": "python",
   "name": "python3"
  },
  "language_info": {
   "codemirror_mode": {
    "name": "ipython",
    "version": 3
   },
   "file_extension": ".py",
   "mimetype": "text/x-python",
   "name": "python",
   "nbconvert_exporter": "python",
   "pygments_lexer": "ipython3",
   "version": "3.5.2"
  }
 },
 "nbformat": 4,
 "nbformat_minor": 2
}
