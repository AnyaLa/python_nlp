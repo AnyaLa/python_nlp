{
 "cells": [
  {
   "cell_type": "markdown",
   "metadata": {},
   "source": [
    "## Введение в Python "
   ]
  },
  {
   "cell_type": "markdown",
   "metadata": {},
   "source": [
    "### Основы функций"
   ]
  },
  {
   "cell_type": "markdown",
   "metadata": {},
   "source": [
    "Функция – это средство, позволяющее группировать наборы инструкций так, что в программе они могут запускаться неоднократно.\n",
    "\n",
    "Функции могут вычислять некоторый результат и позволять указывать входные параметры, отличающиеся по своим значениям от вызова к вызову.\n",
    "\n",
    "$\\textbf{def}$ – это исполняемый программный код. Функции в языке Python создаются с помощью новой инструкции def. В отличие от функций в компилирующих языках программирования def относится к классу исполняемых инструкций  – функция не существует, пока интерпретатор не доберется до инструкции def и не выполнит ее.\n",
    "\n",
    "$\\textbf{def}$ создает объект и  присваивает ему имя. Когда интерпретатор Python встречает и выполняет инструкцию def, он создает новый объект-функцию и  связывает его с  именем функции. Как и  в любой другой операции присваивания, имя становится ссылкой на объект-функцию.\n",
    "\n",
    "$\\textbf{return}$ передает объект результата вызывающей программе. Когда функцияvвызывается, вызывающая программа приостанавливает свою работу, пока функция не завершит работу и не вернет управление. Функции, вычисляющие какое-либо значение, возвращают его с помощью инструкции return – возвращаемое значение становится результатом обращения к функции."
   ]
  },
  {
   "cell_type": "code",
   "execution_count": null,
   "metadata": {
    "collapsed": true
   },
   "outputs": [],
   "source": [
    "def <name>(arg1, arg2,... argN):\n",
    "    <statements>"
   ]
  },
  {
   "cell_type": "code",
   "execution_count": null,
   "metadata": {
    "collapsed": true
   },
   "outputs": [],
   "source": [
    "Тело функции часто содержит инструкцию return:\n",
    "\n",
    "def <name>(arg1, arg2,... argN):\n",
    "    ...\n",
    "    return <value>"
   ]
  },
  {
   "cell_type": "markdown",
   "metadata": {},
   "source": [
    "### Пример"
   ]
  },
  {
   "cell_type": "markdown",
   "metadata": {},
   "source": [
    "Дано два числа a и b. Выведите гипотенузу треугольника с заданными катетами. "
   ]
  },
  {
   "cell_type": "code",
   "execution_count": 2,
   "metadata": {},
   "outputs": [
    {
     "name": "stdout",
     "output_type": "stream",
     "text": [
      "hypotenuse = 1.41\n"
     ]
    }
   ],
   "source": [
    "import math\n",
    "\n",
    "def get_hypotenuse(a, b):\n",
    "    hypotenuse = math.sqrt(a**2 + b**2)\n",
    "    return hypotenuse\n",
    "\n",
    "print('hypotenuse = %.2f'%get_hypotenuse(1, 1))"
   ]
  },
  {
   "cell_type": "code",
   "execution_count": 6,
   "metadata": {},
   "outputs": [
    {
     "name": "stdout",
     "output_type": "stream",
     "text": [
      "2 <> 2.8284271247461903\n"
     ]
    }
   ],
   "source": [
    "hypotenuse = 2\n",
    "print(hypotenuse, '<>', get_hypotenuse(2, 2))"
   ]
  },
  {
   "cell_type": "markdown",
   "metadata": {},
   "source": [
    "### Повторение (числа, списки, строки, for, if)"
   ]
  },
  {
   "cell_type": "markdown",
   "metadata": {},
   "source": [
    "### Задача 1"
   ]
  },
  {
   "cell_type": "markdown",
   "metadata": {},
   "source": [
    "$n$  школьников делят $k$  яблок поровну, неделяющийся остаток остается в корзинке. Сколько яблок достанется каждому школьнику?\n",
    "\n",
    "Функция получает на вход числа $n$ и $k$  - целые, положительные, не превышают $10000$. "
   ]
  },
  {
   "cell_type": "code",
   "execution_count": 2,
   "metadata": {
    "collapsed": true
   },
   "outputs": [],
   "source": [
    "def func1(n, k):\n",
    "    return k//n\n",
    "\n",
    "assert func1(3, 11) == 3"
   ]
  },
  {
   "cell_type": "markdown",
   "metadata": {},
   "source": [
    "### Задача 2"
   ]
  },
  {
   "cell_type": "markdown",
   "metadata": {},
   "source": [
    "Дано трехзначное число. Найдите сумму его цифр."
   ]
  },
  {
   "cell_type": "code",
   "execution_count": 3,
   "metadata": {
    "collapsed": true
   },
   "outputs": [],
   "source": [
    "def func2(n):\n",
    "    a = n//100\n",
    "    b = n%100\n",
    "    c = b//10\n",
    "    d = b%10\n",
    "    return a+c+d\n",
    "\n",
    "assert func2(123) == 6"
   ]
  },
  {
   "cell_type": "markdown",
   "metadata": {},
   "source": [
    "### Задача 3"
   ]
  },
  {
   "cell_type": "markdown",
   "metadata": {},
   "source": [
    "Длина Московской кольцевой автомобильной дороги — $109$ километров. Байкер Вася стартует с нулевого километра МКАД и едет со скоростью $v$ километров в час. На какой отметке он остановится через $t$ часов? \n",
    "\n",
    "Функция получает на вход значение $v$ и $t$. Если $v>0$, то Вася движется в положительном направлении по МКАД, если же значение $v<0$, то в отрицательном. (Гарантируется, что исходные числа - целые и находятся в промежутке от $-1000$ до $+1000$).\n",
    "\n",
    "Программа должна вывести целое число от $0$ до $108$ — номер отметки, на которой остановится Вася."
   ]
  },
  {
   "cell_type": "code",
   "execution_count": 4,
   "metadata": {
    "collapsed": true
   },
   "outputs": [],
   "source": [
    "mkad = 109\n",
    "def func3(v, t):\n",
    "    s = v*t\n",
    "    if v>=0:\n",
    "        return s//mkad\n",
    "    else:\n",
    "        return mkad-abs(s//mkad)"
   ]
  },
  {
   "cell_type": "markdown",
   "metadata": {},
   "source": [
    "### Задача 4"
   ]
  },
  {
   "cell_type": "markdown",
   "metadata": {},
   "source": [
    "По данному целому числу N распечатайте вернуть список квадратов натуральных чисел, не превосходящие N, в порядке возрастания."
   ]
  },
  {
   "cell_type": "code",
   "execution_count": 11,
   "metadata": {},
   "outputs": [
    {
     "data": {
      "text/plain": [
       "[0, 1, 4, 9, 16, 25, 36, 49, 64, 81, 100]"
      ]
     },
     "execution_count": 11,
     "metadata": {},
     "output_type": "execute_result"
    }
   ],
   "source": [
    "import math\n",
    "\n",
    "def func4(N):\n",
    "    return [n**2 for n in range(int(math.sqrt(N))+1)]\n",
    "        \n",
    "func4(100)"
   ]
  },
  {
   "cell_type": "markdown",
   "metadata": {},
   "source": [
    "### Задача 5"
   ]
  },
  {
   "cell_type": "markdown",
   "metadata": {},
   "source": [
    "Необходимо определить индексы элементов списка, значение которых не меньше заданного минимума и не больше заданного максимума.\n",
    "\n",
    "На вход функции подаётся список, минимум и максимум."
   ]
  },
  {
   "cell_type": "code",
   "execution_count": 13,
   "metadata": {},
   "outputs": [
    {
     "data": {
      "text/plain": [
       "[1, 2, 5]"
      ]
     },
     "execution_count": 13,
     "metadata": {},
     "output_type": "execute_result"
    }
   ],
   "source": [
    "def func5(input_list, min_val, max_val):\n",
    "    return [index for index, val in enumerate(input_list) if min_val<=val<=max_val]\n",
    "\n",
    "func5([1, 3, 5, 6, 2, 4], 3, 5)"
   ]
  },
  {
   "cell_type": "markdown",
   "metadata": {},
   "source": [
    "### Задача 6"
   ]
  },
  {
   "cell_type": "markdown",
   "metadata": {},
   "source": [
    "На вход функции подаётся список натуральных чисел. Определите наибольшую длину монотонного фрагмента последовательности (то есть такого фрагмента, где все элементы либо больше предыдущего, либо меньше)."
   ]
  },
  {
   "cell_type": "code",
   "execution_count": 16,
   "metadata": {},
   "outputs": [
    {
     "data": {
      "text/plain": [
       "3"
      ]
     },
     "execution_count": 16,
     "metadata": {},
     "output_type": "execute_result"
    }
   ],
   "source": [
    "def func6(input_list):\n",
    "    max_len = 1\n",
    "    now_len_upper = 1\n",
    "    now_len_lower = 1\n",
    "    for index in range(1, len(input_list)):\n",
    "        if input_list[index-1] < input_list[index]:\n",
    "            now_len_upper += 1\n",
    "        else:\n",
    "            if now_len_upper > max_len:\n",
    "                max_len = now_len_upper\n",
    "            now_len_upper = 1\n",
    "        \n",
    "        if input_list[index-1] > input_list[index]:\n",
    "            now_len_lower += 1\n",
    "        else:\n",
    "            if now_len_lower > max_len:\n",
    "                max_len = now_len_lower\n",
    "            now_len_lower = 1\n",
    "    return max_len\n",
    "\n",
    "func6([1, 3, 2, 4, 6, 5])"
   ]
  },
  {
   "cell_type": "markdown",
   "metadata": {},
   "source": [
    "### Задача 7"
   ]
  },
  {
   "cell_type": "markdown",
   "metadata": {},
   "source": [
    "В шифре Цезаря каждая буква заменяется на $k$-ую по счету в алфавите после данной, с цикличностью.\n",
    "\n",
    "Функция принемает на вход строку и параметр $k$. Требуется вернуть зашифрованную строку"
   ]
  },
  {
   "cell_type": "code",
   "execution_count": 10,
   "metadata": {},
   "outputs": [
    {
     "data": {
      "text/plain": [
       "'Udymts SQU'"
      ]
     },
     "execution_count": 10,
     "metadata": {},
     "output_type": "execute_result"
    }
   ],
   "source": [
    "def func7(en_string, k):\n",
    "    alphabet = ['a', 'b', 'c', 'd', 'e', 'f', 'g', 'h', 'i', 'j', \n",
    "                'k', 'l', 'm',  'n', 'o', 'p', 'q',  'r', 's', 't', \n",
    "                'u', 'v', 'w', 'x', 'y','z']\n",
    "    new_string = ''\n",
    "    for char in en_string:\n",
    "        if not(char.lower() in alphabet):\n",
    "            new_string += char\n",
    "            continue\n",
    "        if char.islower():\n",
    "            new_string += alphabet[(alphabet.index(char.lower())+k)%len(alphabet)]\n",
    "        else:\n",
    "            new_string += alphabet[(alphabet.index(char.lower())+k)%len(alphabet)].upper()\n",
    "    return new_string\n",
    "\n",
    "func7('Python NLP', 5)"
   ]
  },
  {
   "cell_type": "markdown",
   "metadata": {},
   "source": [
    "### Задача 8"
   ]
  },
  {
   "cell_type": "markdown",
   "metadata": {},
   "source": [
    "Капитан Флинт зарыл клад на Острове сокровищ. Он оставил описание, как найти клад. Описание состоит из строк вида: “North 5”, где первое слово – одно из “North”, “South”, “East”, “West”, а второе число – количество шагов, необходимое пройти в этом направлении.\n",
    "\n",
    "Напишите программу, которая по описанию пути к кладу определяет точные координаты клада, считая, что начало координат находится в начале пути, ось OX  направлена на восток, ось OY – на север.\n",
    "Входные данные\n",
    "\n",
    "Функция получает на вход список строк указанного вида.\n",
    "\n",
    "Функция должна вернуть два целых числа: координаты клада. \n",
    "\n",
    "Например, при входных данных: ['North 5', 'East 3', 'South 1'] функция должна вернуть координаты (3, 4)"
   ]
  },
  {
   "cell_type": "code",
   "execution_count": 11,
   "metadata": {
    "collapsed": true
   },
   "outputs": [],
   "source": [
    "def func8(way):\n",
    "    cord = [0, 0]\n",
    "    for direction, weight in map(lambda x: x.split(' '), way):\n",
    "        if direction == 'East':\n",
    "            cord[0] += weight\n",
    "        if direction == 'West':\n",
    "            cord[0] -= weight\n",
    "        if direction == 'North':\n",
    "            cord[1] += weight\n",
    "        if direction == 'South':\n",
    "            cord[1] -= weight\n",
    "    return cord"
   ]
  },
  {
   "cell_type": "markdown",
   "metadata": {},
   "source": [
    "### Продолжим разговор о типах данных"
   ]
  },
  {
   "cell_type": "markdown",
   "metadata": {},
   "source": [
    "### Кортежи"
   ]
  },
  {
   "cell_type": "code",
   "execution_count": 7,
   "metadata": {},
   "outputs": [
    {
     "name": "stdout",
     "output_type": "stream",
     "text": [
      "(1, 'a') <class 'tuple'>\n",
      "List of tuples: <zip object at 0x7f76b8109388>\n"
     ]
    }
   ],
   "source": [
    "a = (1, 'a')\n",
    "print(a, type(a))\n",
    "\n",
    "nlist = [1, 2, 3, 4, 5]\n",
    "clist = ['a', 'b', 'c', 'd', 'e']\n",
    "print('List of tuples: %s'%zip(nlist, clist))"
   ]
  },
  {
   "cell_type": "markdown",
   "metadata": {},
   "source": [
    "### Задача 9"
   ]
  },
  {
   "cell_type": "markdown",
   "metadata": {},
   "source": [
    "Напишите функцию принимающую на вход строку и преобразующую её в список кортежей длинны 2. Каждый кортеж имеет вид (Слово, Длинна_слова)"
   ]
  },
  {
   "cell_type": "code",
   "execution_count": 17,
   "metadata": {
    "collapsed": true
   },
   "outputs": [],
   "source": [
    "def func9(string):\n",
    "    list_tuples = []\n",
    "    for word in string.split(' '):\n",
    "        if word.isalpha():\n",
    "            list_tuples.append((word, len(word)))\n",
    "    return list_tuples\n",
    "\n",
    "#другая реализация\n",
    "def func9(string):\n",
    "    return [(word, len(word)) for word in string.split(' ') if word.isalpha()]"
   ]
  },
  {
   "cell_type": "code",
   "execution_count": 18,
   "metadata": {},
   "outputs": [
    {
     "data": {
      "text/plain": [
       "[('Кортеж', 6), ('упорядоченный', 13), ('набор', 5), ('фиксированной', 13)]"
      ]
     },
     "execution_count": 18,
     "metadata": {},
     "output_type": "execute_result"
    }
   ],
   "source": [
    "string = 'Кортеж — упорядоченный набор фиксированной длины.'\n",
    "func9(string)"
   ]
  },
  {
   "cell_type": "markdown",
   "metadata": {},
   "source": [
    "### Множества\n",
    "\n",
    "http://www.ilnurgi1.ru/docs/python/base/set.html"
   ]
  },
  {
   "cell_type": "code",
   "execution_count": 9,
   "metadata": {},
   "outputs": [
    {
     "name": "stdout",
     "output_type": "stream",
     "text": [
      "<class 'set'>\n",
      "{1, 2}\n",
      "{1, 2, 3}\n",
      "{1, 2, 3, 4, 5}\n",
      "1 {2, 3, 4, 5}\n",
      "None {2, 3, 5}\n"
     ]
    }
   ],
   "source": [
    "a = set([1, 2, 1])\n",
    "print(type(a))\n",
    "print(a)\n",
    "a.add(3)\n",
    "print(a)\n",
    "a.update([5, 3, 4])\n",
    "print(a)\n",
    "print(a.pop(), a)\n",
    "print(a.remove(4), a)"
   ]
  },
  {
   "cell_type": "code",
   "execution_count": 10,
   "metadata": {},
   "outputs": [
    {
     "name": "stdout",
     "output_type": "stream",
     "text": [
      "{1, 2}\n",
      "set()\n",
      "b - ?\n"
     ]
    }
   ],
   "source": [
    "a = set([1, 2, 1])\n",
    "b = a\n",
    "print(b)\n",
    "a.clear()\n",
    "print(a)\n",
    "print(b)"
   ]
  },
  {
   "cell_type": "code",
   "execution_count": 11,
   "metadata": {},
   "outputs": [
    {
     "name": "stdout",
     "output_type": "stream",
     "text": [
      "{1, 2}\n",
      "set()\n",
      "b - ?\n"
     ]
    }
   ],
   "source": [
    "a = set([1, 2, 1])\n",
    "b = a.copy()\n",
    "print(b)\n",
    "a.clear()\n",
    "print(a)\n",
    "print(b)"
   ]
  },
  {
   "cell_type": "code",
   "execution_count": 12,
   "metadata": {
    "collapsed": true
   },
   "outputs": [],
   "source": [
    "string = 'In mathematics, a set is a well-defined collection of distinct objects, considered as an object in its own right. For example, the numbers 2, 4, and 6 are distinct objects when considered separately, but when they are considered collectively they form a single set of size three, written {2,4,6}. Sets are one of the most fundamental concepts in mathematics. Developed at the end of the 19th century, set theory is now a ubiquitous part of mathematics, and can be used as a foundation from which nearly all of mathematics can be derived. In mathematics education, elementary topics such as Venn diagrams are taught at a young age, while more advanced concepts are taught as part of a university degree. The German word Menge, rendered as \"set\" in English, was coined by Bernard Bolzano in his work The Paradoxes of the Infinite.'"
   ]
  },
  {
   "cell_type": "code",
   "execution_count": 13,
   "metadata": {},
   "outputs": [
    {
     "name": "stdout",
     "output_type": "stream",
     "text": [
      "Number of words - 141\n",
      "Number of unique words - 94\n"
     ]
    }
   ],
   "source": [
    "words = string.split(' ')\n",
    "print('Number of words - %d'%len(words))\n",
    "lower_words = [word.lower() for word in words]\n",
    "set_words = set(words)\n",
    "print('Number of unique words - %d'%len(set_words))"
   ]
  },
  {
   "cell_type": "markdown",
   "metadata": {},
   "source": [
    "### Задача 10"
   ]
  },
  {
   "cell_type": "markdown",
   "metadata": {},
   "source": [
    "Написать функцию, которая на вход принимает два списка А и В, а возвращает список элементов, которые одновременно содержаться и в A, и в B (без дубликатов)"
   ]
  },
  {
   "cell_type": "code",
   "execution_count": 20,
   "metadata": {},
   "outputs": [
    {
     "data": {
      "text/plain": [
       "[3, 4]"
      ]
     },
     "execution_count": 20,
     "metadata": {},
     "output_type": "execute_result"
    }
   ],
   "source": [
    "def func10(A, B):\n",
    "    return list(set(A)&set(B))\n",
    "\n",
    "func10([1, 2, 3, 4], [3, 4, 5])"
   ]
  },
  {
   "cell_type": "markdown",
   "metadata": {},
   "source": [
    "### Cловари \n",
    "\n",
    "http://www.ilnurgi1.ru/docs/python/base/dicts.html"
   ]
  },
  {
   "cell_type": "code",
   "execution_count": 15,
   "metadata": {},
   "outputs": [
    {
     "name": "stdout",
     "output_type": "stream",
     "text": [
      "{'a': 1, 'b': 2} <class 'dict'>\n"
     ]
    }
   ],
   "source": [
    "a = {'a':1, 'b':2}\n",
    "print(a, type(a))"
   ]
  },
  {
   "cell_type": "code",
   "execution_count": 16,
   "metadata": {},
   "outputs": [
    {
     "name": "stdout",
     "output_type": "stream",
     "text": [
      "Length of dictionary - 92\n"
     ]
    }
   ],
   "source": [
    "dictionary = {}\n",
    "for word in lower_words:\n",
    "    dictionary.setdefault(word, 0)\n",
    "    dictionary[word] += 1\n",
    "\n",
    "print('Length of dictionary - %d'%len(dictionary))"
   ]
  },
  {
   "cell_type": "code",
   "execution_count": 17,
   "metadata": {},
   "outputs": [
    {
     "name": "stdout",
     "output_type": "stream",
     "text": [
      "dict_keys(['single', 'from', 'mathematics.', 'all', '4,', 'university', 'menge,', 'distinct', 'right.', 'topics', 'own', 'in', 'example,', 'form', 'rendered', '{2,4,6}.', 'most', 'developed', 'as', 'considered', 'age,', 'the', 'mathematics,', 'infinite.', 'more', 'and', 'was', '\"set\"', 'part', 'written', 'diagrams', 'such', '19th', 'used', 'young', 'well-defined', 'collection', 'concepts', 'objects', 'when', 'century,', 'by', 'venn', 'for', 'english,', 'be', 'coined', 'sets', 'three,', 'a', 'can', 'while', 'but', 'foundation', 'taught', 'one', 'they', 'collectively', 'an', 'set', 'is', 'object', 'his', '2,', 'german', 'fundamental', 'are', 'bernard', 'paradoxes', 'objects,', 'numbers', 'at', 'education,', 'end', 'now', 'ubiquitous', '6', 'which', 'theory', 'size', 'of', 'elementary', 'separately,', 'advanced', 'derived.', 'bolzano', 'word', 'work', 'nearly', 'mathematics', 'its', 'degree.'])\n"
     ]
    }
   ],
   "source": [
    "keys = dictionary.keys()\n",
    "print(keys)"
   ]
  },
  {
   "cell_type": "code",
   "execution_count": 18,
   "metadata": {},
   "outputs": [
    {
     "name": "stdout",
     "output_type": "stream",
     "text": [
      "dict_values([1, 1, 1, 1, 1, 1, 1, 2, 1, 1, 1, 6, 1, 1, 1, 1, 1, 1, 5, 3, 1, 7, 2, 1, 1, 2, 1, 1, 2, 1, 1, 1, 1, 1, 1, 1, 1, 2, 1, 2, 1, 1, 1, 1, 1, 2, 1, 1, 1, 7, 2, 1, 1, 1, 2, 1, 2, 1, 1, 3, 2, 1, 1, 1, 1, 1, 5, 1, 1, 1, 1, 2, 1, 1, 1, 1, 1, 1, 1, 1, 8, 1, 1, 1, 1, 1, 1, 1, 1, 2, 1, 1])\n"
     ]
    }
   ],
   "source": [
    "values = dictionary.values()\n",
    "print(values)"
   ]
  },
  {
   "cell_type": "code",
   "execution_count": 19,
   "metadata": {},
   "outputs": [
    {
     "name": "stdout",
     "output_type": "stream",
     "text": [
      "dict_items([('single', 1), ('from', 1), ('mathematics.', 1), ('all', 1), ('4,', 1), ('university', 1), ('menge,', 1), ('distinct', 2), ('right.', 1), ('topics', 1), ('own', 1), ('in', 6), ('example,', 1), ('form', 1), ('rendered', 1), ('{2,4,6}.', 1), ('most', 1), ('developed', 1), ('as', 5), ('considered', 3), ('age,', 1), ('the', 7), ('mathematics,', 2), ('infinite.', 1), ('more', 1), ('and', 2), ('was', 1), ('\"set\"', 1), ('part', 2), ('written', 1), ('diagrams', 1), ('such', 1), ('19th', 1), ('used', 1), ('young', 1), ('well-defined', 1), ('collection', 1), ('concepts', 2), ('objects', 1), ('when', 2), ('century,', 1), ('by', 1), ('venn', 1), ('for', 1), ('english,', 1), ('be', 2), ('coined', 1), ('sets', 1), ('three,', 1), ('a', 7), ('can', 2), ('while', 1), ('but', 1), ('foundation', 1), ('taught', 2), ('one', 1), ('they', 2), ('collectively', 1), ('an', 1), ('set', 3), ('is', 2), ('object', 1), ('his', 1), ('2,', 1), ('german', 1), ('fundamental', 1), ('are', 5), ('bernard', 1), ('paradoxes', 1), ('objects,', 1), ('numbers', 1), ('at', 2), ('education,', 1), ('end', 1), ('now', 1), ('ubiquitous', 1), ('6', 1), ('which', 1), ('theory', 1), ('size', 1), ('of', 8), ('elementary', 1), ('separately,', 1), ('advanced', 1), ('derived.', 1), ('bolzano', 1), ('word', 1), ('work', 1), ('nearly', 1), ('mathematics', 2), ('its', 1), ('degree.', 1)])\n"
     ]
    }
   ],
   "source": [
    "print(dictionary.items())"
   ]
  },
  {
   "cell_type": "code",
   "execution_count": 20,
   "metadata": {},
   "outputs": [
    {
     "data": {
      "text/plain": [
       "True"
      ]
     },
     "execution_count": 20,
     "metadata": {},
     "output_type": "execute_result"
    }
   ],
   "source": [
    "'the' in dictionary"
   ]
  },
  {
   "cell_type": "markdown",
   "metadata": {},
   "source": [
    "### Задача 11"
   ]
  },
  {
   "cell_type": "markdown",
   "metadata": {},
   "source": [
    "Сформировать словарь синонимов. В качестве ключевого слова взять самое короткое слово из синонимичного ряда."
   ]
  },
  {
   "cell_type": "code",
   "execution_count": 22,
   "metadata": {},
   "outputs": [
    {
     "name": "stdout",
     "output_type": "stream",
     "text": [
      "язык язычок, человек гомо_сапиенс, язычок язычина,язычишко язычище, язычишко звякало, гомо_сапиенс мыслящий_тростник, человек рожденный_женщиной, язык язычишко, царь_природы мыслящий_тростник, язычишко метла, рожденный_женщиной венец_творения, человек смертный\n"
     ]
    }
   ],
   "source": [
    "string = 'язык язычок, человек гомо_сапиенс, язычок язычина,язычишко язычище, язычишко звякало, гомо_сапиенс мыслящий_тростник, человек рожденный_женщиной, язык язычишко, царь_природы мыслящий_тростник, язычишко метла, рожденный_женщиной венец_творения, человек смертный'\n",
    "print(string)"
   ]
  }
 ],
 "metadata": {
  "kernelspec": {
   "display_name": "Python 3",
   "language": "python",
   "name": "python3"
  },
  "language_info": {
   "codemirror_mode": {
    "name": "ipython",
    "version": 3
   },
   "file_extension": ".py",
   "mimetype": "text/x-python",
   "name": "python",
   "nbconvert_exporter": "python",
   "pygments_lexer": "ipython3",
   "version": "3.5.2"
  }
 },
 "nbformat": 4,
 "nbformat_minor": 2
}
