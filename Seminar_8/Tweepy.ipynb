{
 "cells": [
  {
   "cell_type": "markdown",
   "metadata": {},
   "source": [
    "## Twitter\n",
    "\n",
    "Twitter - источник текстов довольно интересного жанра (микроблог), а еще возможность мониторить отражения событий, происходящих в мире. Существуют питоновские модули для работы с Twitter API (application programming interface -- средство для автоматизированного обращения к приложению), например, Twython, Tweepy, twitter, python-twitter.\n",
    "\n",
    "Попробуем поработать с Tweepy -- pip install tweepy\n",
    "\n",
    "Для того, чтобы работать с Twitter через Python, нужно иметь аккаунт в Twitter.\n",
    "\n",
    "Имея аккаунт в Twitter, нужно создать приложение. Учтите, что если вы будете писать бота, то он будет постить твиты под тем аккаунтом, в котором вы создаете приложение (т.е. вы можете написать бота, который спамит в вашем личном аккаунте, или же зарегистрировать новый аккаунт специально под бота).\n",
    "\n",
    "Для того чтобы создать приложение, нужно:\n",
    "* перейти на https://apps.twitter.com/\n",
    "* нажать Create New App\n",
    "* ввести имя, описание и сайт приложения (в качестве сайта можно использовать профиль в твиттере, например twitter.com/username)\n",
    "* согласиться с Twitter Developer Agreement и нажать Create your Twitter application\n",
    "\n",
    "Теперь у вас есть приложение, но нет ключей доступа. Для того, что бы их сгенерировать нужно:\n",
    "* перейти во вкладку Permissions и убедиться, что там указано Read and Write,\n",
    "* перейти во вкладку Keys and Access Tokens и нажать кнопку Create my access token\n",
    "\n",
    "Токены, которые мы создали, нужно записать в специальный файл, например, `credentials.py`. Эти токены можно будет импортировать в другие модули строчкой `from credentials import *`.\n",
    "\n",
    "Файл `credentials.py` будет выглядеть так:"
   ]
  },
  {
   "cell_type": "code",
   "execution_count": null,
   "metadata": {
    "collapsed": true
   },
   "outputs": [],
   "source": [
    "consumer_key = '.....Consumer Key (API Key).......'\n",
    "consumer_secret = '....Consumer Secret (API Secret)..............'\n",
    "access_token = '........Access Token...............'\n",
    "access_token_secret = '......Access Token Secret..........'"
   ]
  },
  {
   "cell_type": "code",
   "execution_count": 5,
   "metadata": {
    "collapsed": true
   },
   "outputs": [],
   "source": [
    "import tweepy\n",
    "from credentials import *"
   ]
  },
  {
   "cell_type": "markdown",
   "metadata": {},
   "source": [
    "Авторизация в Twitter через Python"
   ]
  },
  {
   "cell_type": "code",
   "execution_count": 6,
   "metadata": {
    "collapsed": true
   },
   "outputs": [],
   "source": [
    "auth = tweepy.OAuthHandler(consumer_key, consumer_secret)\n",
    "auth.set_access_token(access_token, access_token_secret)\n",
    "api = tweepy.API(auth)"
   ]
  },
  {
   "cell_type": "markdown",
   "metadata": {},
   "source": [
    "Посмотреть, что можно делать с экземпляром api можно в [документации](http://docs.tweepy.org/en/v3.5.0/api.html)"
   ]
  },
  {
   "cell_type": "markdown",
   "metadata": {},
   "source": [
    "Можно получить юзера, к которому привязано приложение:"
   ]
  },
  {
   "cell_type": "code",
   "execution_count": 9,
   "metadata": {},
   "outputs": [],
   "source": [
    "me = api.me()"
   ]
  },
  {
   "cell_type": "markdown",
   "metadata": {},
   "source": [
    "Переменная `me` содержит объект типа `User`, у юзера есть множество атрибутов - имя, логин, количество фолловеров, лайков, постов, дата регистрации и т.д. Чтобы посмотреть, какие атрибуты есть у данного юзера, напечатайте в консоли `vars(me)`."
   ]
  },
  {
   "cell_type": "code",
   "execution_count": 10,
   "metadata": {},
   "outputs": [
    {
     "name": "stdout",
     "output_type": "stream",
     "text": [
      "My name is Arina Ageeva\n",
      "My screen name is ArinaAgeeva1\n",
      "I have 1 followers\n",
      "I follow 0 accounts\n"
     ]
    }
   ],
   "source": [
    "print('My name is %s'%me.name)\n",
    "print('My screen name is %s'%me.screen_name)\n",
    "print('I have %d followers'%me.followers_count)\n",
    "print('I follow %d accounts'%me.friends_count)"
   ]
  },
  {
   "cell_type": "markdown",
   "metadata": {},
   "source": [
    "С помощью api можно публиковать посты:"
   ]
  },
  {
   "cell_type": "code",
   "execution_count": null,
   "metadata": {
    "collapsed": true
   },
   "outputs": [],
   "source": [
    "tweet = \"A long time ago in a galaxy far, far away....\"\n",
    "api.update_status(tweet)"
   ]
  },
  {
   "cell_type": "markdown",
   "metadata": {},
   "source": [
    "Чтобы ответить на какой-то твит, в `update_status` нужно указать параметр `in_reply_to_status_id`:"
   ]
  },
  {
   "cell_type": "code",
   "execution_count": null,
   "metadata": {
    "collapsed": true
   },
   "outputs": [],
   "source": [
    "api.update_status(\"This is the static blue text featured in every Star Wars opening crawl.\", \n",
    "                  in_reply_to_status_id=my_last_tweet.id)"
   ]
  },
  {
   "cell_type": "markdown",
   "metadata": {},
   "source": [
    "Чтобы ретвитнуть твит, используем метод retweet - ему нужно передать id твита:"
   ]
  },
  {
   "cell_type": "code",
   "execution_count": null,
   "metadata": {
    "collapsed": true
   },
   "outputs": [],
   "source": [
    "api.retweet(my_last_tweet.id)"
   ]
  },
  {
   "cell_type": "markdown",
   "metadata": {},
   "source": [
    "Чтобы **скачать все твиты конкретного юзера**, используется метод [`user_timeline`](http://docs.tweepy.org/en/v3.5.0/api.html#API.user_timeline). Например, нас с вами интересует твиттер [Python Software Foundation](https://twitter.com/ThePSF)"
   ]
  },
  {
   "cell_type": "code",
   "execution_count": 13,
   "metadata": {},
   "outputs": [
    {
     "name": "stdout",
     "output_type": "stream",
     "text": [
      "0: PyHou - Houston Python Enthusiasts! Monthly Meetup Dec. 18 #PyHou: https://t.co/lLqVPqvis1 (2017-12-15 00:00:08)\n",
      "\n",
      "1: RT @Binarybotstech: @ThePSF We're hosting FREE workshops at @Highcross this weekend to teach children how to code using the BBC Micro:bit -… (2017-12-14 22:57:04)\n",
      "\n",
      "2: Boston Python Dec. 18 Presentation Night - Douglas Landgraf: Controlling a Surveillance Camera with Python.… https://t.co/DOTr1ivDoe (2017-12-14 21:00:06)\n",
      "\n",
      "3: Kubernetes and Python - London Python Meetup Dec. 18: https://t.co/X34LFhE38S. @python_london (2017-12-14 18:00:11)\n",
      "\n",
      "4: Django Software Foundation travel grants available for PyCon Namibia 2018: https://t.co/HiilxvPArW (2017-12-13 23:00:07)\n",
      "\n"
     ]
    }
   ],
   "source": [
    "username = \"ThePSF\"\n",
    "num_tweets = 5  # максимум 200 твитов за раз\n",
    "tweets = api.user_timeline(screen_name=username, count=num_tweets)\n",
    "\n",
    "for i, tweet in enumerate(tweets):\n",
    "    print('%d: %s (%s)\\n'%(i, tweet.text, tweet.created_at))"
   ]
  },
  {
   "cell_type": "markdown",
   "metadata": {},
   "source": [
    "Чтобы получить следующие 5 твитов, используем параметр `page`:"
   ]
  },
  {
   "cell_type": "code",
   "execution_count": 14,
   "metadata": {},
   "outputs": [
    {
     "name": "stdout",
     "output_type": "stream",
     "text": [
      "0: Python listed as one of the most common skills for emerging jobs in Linkedin 2017 U.S. emerging jobs report: https://t.co/uJkzPFapHh (2017-12-13 16:18:01)\n",
      "\n",
      "1: PyCon Pune 2018 welcomes Brett Cannon as keynote speaker. Register and meet with Brett: https://t.co/nwhrK8aue7 (2017-12-13 12:00:03)\n",
      "\n",
      "2: RT @jdorfman: Proud 2018 @ThePSF sponsor/partner. https://t.co/2jinaRcDLB (2017-12-12 23:51:41)\n",
      "\n",
      "3: RT @ewa_jodlowska: Registration will open in January 2018. https://t.co/JBRAhJjIKQ (2017-12-12 23:32:59)\n",
      "\n",
      "4: RT @ewa_jodlowska: I am _very_ excited to attend @pyconpune in February 2018. It will be my first PyCon Pune and my first trip to India. I… (2017-12-12 22:10:29)\n",
      "\n"
     ]
    }
   ],
   "source": [
    "tweets = api.user_timeline(screen_name=username, count=num_tweets, page=2)\n",
    "\n",
    "for i, tweet in enumerate(tweets):\n",
    "    print('%d: %s (%s)\\n'%(i, tweet.text, tweet.created_at))"
   ]
  },
  {
   "cell_type": "markdown",
   "metadata": {},
   "source": [
    "Чтобы узнать, сколько у юзера твитов, достанем объект, соответствующий ему, с помощью `get_user`:"
   ]
  },
  {
   "cell_type": "code",
   "execution_count": 15,
   "metadata": {},
   "outputs": [
    {
     "name": "stdout",
     "output_type": "stream",
     "text": [
      "ThePSF have 3393 twits\n"
     ]
    }
   ],
   "source": [
    "user = api.get_user(username)\n",
    "print('%s have %d twits'%(username, user.statuses_count))"
   ]
  },
  {
   "cell_type": "markdown",
   "metadata": {},
   "source": [
    "Значит, чтобы получить все твиты пользователя, нужно сначала узнать сколько у него всего постов, а затем в цикле скачать все посты.\n",
    "\n",
    "Так делать можно, но есть более короткий вариант - с использованием `tweepy.Cursor`. Курсор перебирает твиты и обрабатывает страницы за нас, параметры, которые нужно передать в функцию `user_timeline` мы теперь передаем в сам курсор, а общее количество постов которые мы хотим получить указываем внутри `items()`, например можно написать `.items(5)`. Если мы хотим вообще все посты данного юзера, то можно написать просто `items()`. "
   ]
  },
  {
   "cell_type": "code",
   "execution_count": 16,
   "metadata": {},
   "outputs": [
    {
     "name": "stdout",
     "output_type": "stream",
     "text": [
      "0: PyHou - Houston Python Enthusiasts! Monthly Meetup Dec. 18 #PyHou: https://t.co/lLqVPqvis1 (2017-12-15 00:00:08)\n",
      "\n",
      "1: RT @Binarybotstech: @ThePSF We're hosting FREE workshops at @Highcross this weekend to teach children how to code using the BBC Micro:bit -… (2017-12-14 22:57:04)\n",
      "\n",
      "2: Boston Python Dec. 18 Presentation Night - Douglas Landgraf: Controlling a Surveillance Camera with Python.… https://t.co/DOTr1ivDoe (2017-12-14 21:00:06)\n",
      "\n",
      "3: Kubernetes and Python - London Python Meetup Dec. 18: https://t.co/X34LFhE38S. @python_london (2017-12-14 18:00:11)\n",
      "\n",
      "4: Django Software Foundation travel grants available for PyCon Namibia 2018: https://t.co/HiilxvPArW (2017-12-13 23:00:07)\n",
      "\n"
     ]
    }
   ],
   "source": [
    "for i, tweet in enumerate(tweepy.Cursor(api.user_timeline, screen_name=username).items(5)):\n",
    "    print('%d: %s (%s)\\n'%(i, tweet.text, tweet.created_at))"
   ]
  },
  {
   "cell_type": "markdown",
   "metadata": {},
   "source": [
    "Может случиться так, что ваш курсор падает с ошибкой `RateLimitError` - это значит, что вы отправляете слишком много запросов. Чтобы обойти ошибку, нужно, чтобы бот после каждого превышения лимита ждал 15 минут: [Handling the rate limit using cursors](http://docs.tweepy.org/en/v3.5.0/code_snippet.html#handling-the-rate-limit-using-cursors)."
   ]
  },
  {
   "cell_type": "markdown",
   "metadata": {},
   "source": [
    "С помощью данного модуля можно **искать посты по запросам**.\n",
    "Для поиска нужно функцию [`search`](http://docs.tweepy.org/en/v3.5.0/api.html#API.search). \n",
    "\n",
    "Эта функция ожидает на вход обязательный параметр `q` - строка, которую мы ищем, и необязательные параметры, например, `lang`, `geocode`.\n",
    "Предположим, мы хотим найти 10 упоминаний слова \"добро\" в твитах на русском языке, исключая ретвиты."
   ]
  },
  {
   "cell_type": "code",
   "execution_count": 17,
   "metadata": {},
   "outputs": [
    {
     "name": "stdout",
     "output_type": "stream",
     "text": [
      "Jarik_Bulle жевачки из автоматов - это добро. всегда ношу с собой в баночке и жую, когда мне грустно. \n",
      "\n",
      "dm_e Добро пожаловать в Сечню \n",
      "\n",
      "valsemyur с одной стороны люблю свой размер груди, а с другой, когда ты по сути офисный планктон на домашней основе, начинают… https://t.co/TKtFlIrpu0 \n",
      "\n",
      "vovagkh @umnicakrasa @therusfed @SonicaIrina - добро нельзя распылить куда-то, оно есть, или нет!:) \n",
      "\n",
      "inesplac Если человек сделал тебе больно, не отвечай ему тем же, сделай добро. Ты другой человек. Ты лучше! \n",
      "\n",
      "sokoloff1937 С Наступающим!\n",
      "Подарим детям добро! https://t.co/cTpqJeXfZv \n",
      "\n",
      "kvn65 Вас интересует здоровый образ жизни?! Добро пожаловать в группу \"Как быть в хорошей форме?!\" -... https://t.co/o8HGQ9zQBf \n",
      "\n",
      "kvn65 Вас интересует здоровый образ жизни?! Добро пожаловать в группу \"Как быть в хорошей форме?!\" -… https://t.co/vm12hjrHMI \n",
      "\n",
      "Zverovski @misyats мне пока не дали добро на смену авы \n",
      "\n",
      "Fedya_Rat Ну, дорогой ты наш, в этом и твоя немалая заслуга. Сам же служил государству, был частью высшего руководства Рейха,… https://t.co/joeFC19nGH \n",
      "\n"
     ]
    }
   ],
   "source": [
    "i = 0\n",
    "for tweet in tweepy.Cursor(api.search, q='добро', lang='ru').items():\n",
    "    if (not tweet.retweeted) and ('RT @' not in tweet.text):\n",
    "        print(tweet.user.screen_name, tweet.text, '\\n')\n",
    "        i += 1\n",
    "    if i >= 10:\n",
    "        break"
   ]
  },
  {
   "cell_type": "markdown",
   "metadata": {},
   "source": [
    "** Работа с потоком твитов **\n",
    "\n",
    "Если нам нужно отслеживать определенные твиты и реагировать на них, как только они появляются, нам нужно использовать [Streaming API](http://docs.tweepy.org/en/v3.5.0/streaming_how_to.html).\n",
    "\n",
    "Например, как только кто-то упоминает в твиттере \"Звездные войны\", наш бот будет твитить об этом. \n",
    "Создадим массив фраз, которые мы будем постить:"
   ]
  },
  {
   "cell_type": "code",
   "execution_count": 39,
   "metadata": {
    "collapsed": true
   },
   "outputs": [],
   "source": [
    "import random\n",
    "\n",
    "phrases = [\"Кто-то только что написал твит о звездных войнах!\", \n",
    "           \"Опять говорят о стар варс\", \n",
    "           \"стар варс форевер\", \n",
    "           \"Еще один твит о звездных войнах!\",\n",
    "           \"Нет, мне еще не надоели Звездные войны.\",\n",
    "           \"Люк, я твой отец.\"]"
   ]
  },
  {
   "cell_type": "markdown",
   "metadata": {},
   "source": [
    "Теперь нам нужно создать класс, который будет собственно писать пост:"
   ]
  },
  {
   "cell_type": "code",
   "execution_count": 63,
   "metadata": {
    "collapsed": true
   },
   "outputs": [],
   "source": [
    "class StarWarsListener(tweepy.StreamListener):\n",
    "\n",
    "    def on_status(self, status):\n",
    "        if status.user.screen_name != \"FarGalaxyBot\":\n",
    "            print('Reply to user @{}, tweet: {}'.format(status.user.screen_name, status.text))\n",
    "            \n",
    "            api.update_status('@{} {} https://twitter.com/{}/status/{}'.format(\n",
    "                    status.user.screen_name, \n",
    "                    random.choice(phrases),\n",
    "                    status.user.screen_name,\n",
    "                    status.id\n",
    "                ), \n",
    "                              in_reply_to_status_id=status.id)  # постим рандомную фразу в ответ\n",
    "\n",
    "        \n",
    "    def on_error(self, status_code):\n",
    "        if status_code == 420:\n",
    "            # если окажется, что мы посылаем слишком много запросов, то отсоединяемся\n",
    "            return False\n",
    "        # если какая-то другая ошибка, постараемся слушать поток дальше\n",
    "        return True"
   ]
  },
  {
   "cell_type": "markdown",
   "metadata": {},
   "source": [
    "Создаем поток, который будет фильтровать твиты:"
   ]
  },
  {
   "cell_type": "code",
   "execution_count": 64,
   "metadata": {},
   "outputs": [],
   "source": [
    "starWarsListener = StarWarsListener()\n",
    "myStream = tweepy.Stream(auth = api.auth, listener=starWarsListener)"
   ]
  },
  {
   "cell_type": "markdown",
   "metadata": {},
   "source": [
    "Начинаем фильтровать:"
   ]
  },
  {
   "cell_type": "code",
   "execution_count": null,
   "metadata": {
    "collapsed": true
   },
   "outputs": [],
   "source": [
    "myStream.filter(track=['звездные войны', 'star wars'])"
   ]
  },
  {
   "cell_type": "markdown",
   "metadata": {},
   "source": [
    "Теперь вы умеете делать твиттерботов, но использовать это умение нужно во благо. Рекомендуем вам ознакомиться с правилами автоматизации в Twitter (то есть с правилами создания ботов) - https://support.twitter.com/articles/20174733. "
   ]
  },
  {
   "cell_type": "markdown",
   "metadata": {},
   "source": [
    "Приложение для твиттера может делать много всего интересного и с исследовательской точки зрения. Например, [классификацию пользователей по тому, как они пишут](http://www.aaai.org/ocs/index.php/ICWSM/ICWSM11/paper/download/2886/3262), [выяснение того, насколько людям понравился какой-то фильм](https://habrahabr.ru/company/dca/blog/274027/) и т.д. Это мощный инструмент изучения общественного мнения (но и языка тоже), а ещё с помощью твиттер-ботов можно [стать русским хакером и повлиять на выборы в США](https://ain.ua/2016/11/11/kak-boty-v-twitter-vliyali-na-vybory-v-ssha)."
   ]
  }
 ],
 "metadata": {
  "kernelspec": {
   "display_name": "Python 3",
   "language": "python",
   "name": "python3"
  },
  "language_info": {
   "codemirror_mode": {
    "name": "ipython",
    "version": 3
   },
   "file_extension": ".py",
   "mimetype": "text/x-python",
   "name": "python",
   "nbconvert_exporter": "python",
   "pygments_lexer": "ipython3",
   "version": "3.6.3"
  }
 },
 "nbformat": 4,
 "nbformat_minor": 1
}
